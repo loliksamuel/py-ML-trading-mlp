{
 "cells": [
  {
   "cell_type": "code",
   "execution_count": 17,
   "metadata": {},
   "outputs": [
    {
     "name": "stdout",
     "output_type": "stream",
     "text": [
      "Requirement already satisfied: eli5 in /Users/samuelcardonis/anaconda3/lib/python3.7/site-packages (0.9.0)\n",
      "Requirement already satisfied: six in /Users/samuelcardonis/anaconda3/lib/python3.7/site-packages (from eli5) (1.12.0)\n",
      "Requirement already satisfied: graphviz in /Users/samuelcardonis/anaconda3/lib/python3.7/site-packages (from eli5) (0.11.1)\n",
      "Requirement already satisfied: numpy>=1.9.0 in /Users/samuelcardonis/anaconda3/lib/python3.7/site-packages (from eli5) (1.16.2)\n",
      "Requirement already satisfied: jinja2 in /Users/samuelcardonis/anaconda3/lib/python3.7/site-packages (from eli5) (2.10)\n",
      "Requirement already satisfied: scikit-learn>=0.18 in /Users/samuelcardonis/anaconda3/lib/python3.7/site-packages (from eli5) (0.20.3)\n",
      "Requirement already satisfied: tabulate>=0.7.7 in /Users/samuelcardonis/anaconda3/lib/python3.7/site-packages (from eli5) (0.8.3)\n",
      "Requirement already satisfied: scipy in /Users/samuelcardonis/anaconda3/lib/python3.7/site-packages (from eli5) (1.2.1)\n",
      "Requirement already satisfied: attrs>16.0.0 in /Users/samuelcardonis/anaconda3/lib/python3.7/site-packages (from eli5) (19.1.0)\n",
      "Requirement already satisfied: typing in /Users/samuelcardonis/anaconda3/lib/python3.7/site-packages (from eli5) (3.7.4)\n",
      "Requirement already satisfied: MarkupSafe>=0.23 in /Users/samuelcardonis/anaconda3/lib/python3.7/site-packages (from jinja2->eli5) (1.1.1)\n",
      "Requirement already satisfied: keras in /Users/samuelcardonis/anaconda3/lib/python3.7/site-packages (2.2.4)\n",
      "Requirement already satisfied: numpy>=1.9.1 in /Users/samuelcardonis/anaconda3/lib/python3.7/site-packages (from keras) (1.16.2)\n",
      "Requirement already satisfied: scipy>=0.14 in /Users/samuelcardonis/anaconda3/lib/python3.7/site-packages (from keras) (1.2.1)\n",
      "Requirement already satisfied: six>=1.9.0 in /Users/samuelcardonis/anaconda3/lib/python3.7/site-packages (from keras) (1.12.0)\n",
      "Requirement already satisfied: pyyaml in /Users/samuelcardonis/anaconda3/lib/python3.7/site-packages (from keras) (5.1)\n",
      "Requirement already satisfied: h5py in /Users/samuelcardonis/anaconda3/lib/python3.7/site-packages (from keras) (2.9.0)\n",
      "Requirement already satisfied: keras_applications>=1.0.6 in /Users/samuelcardonis/anaconda3/lib/python3.7/site-packages (from keras) (1.0.8)\n",
      "Requirement already satisfied: keras_preprocessing>=1.0.5 in /Users/samuelcardonis/anaconda3/lib/python3.7/site-packages (from keras) (1.1.0)\n",
      "Requirement already satisfied: tensorflow==2.0.0-beta1 in /Users/samuelcardonis/anaconda3/lib/python3.7/site-packages (2.0.0b1)\n",
      "Requirement already satisfied: wheel>=0.26 in /Users/samuelcardonis/anaconda3/lib/python3.7/site-packages (from tensorflow==2.0.0-beta1) (0.33.1)\n",
      "Requirement already satisfied: gast>=0.2.0 in /Users/samuelcardonis/anaconda3/lib/python3.7/site-packages (from tensorflow==2.0.0-beta1) (0.2.2)\n",
      "Requirement already satisfied: six>=1.10.0 in /Users/samuelcardonis/anaconda3/lib/python3.7/site-packages (from tensorflow==2.0.0-beta1) (1.12.0)\n",
      "Requirement already satisfied: tb-nightly<1.14.0a20190604,>=1.14.0a20190603 in /Users/samuelcardonis/anaconda3/lib/python3.7/site-packages (from tensorflow==2.0.0-beta1) (1.14.0a20190603)\n",
      "Requirement already satisfied: termcolor>=1.1.0 in /Users/samuelcardonis/anaconda3/lib/python3.7/site-packages (from tensorflow==2.0.0-beta1) (1.1.0)\n",
      "Requirement already satisfied: absl-py>=0.7.0 in /Users/samuelcardonis/anaconda3/lib/python3.7/site-packages (from tensorflow==2.0.0-beta1) (0.7.1)\n",
      "Requirement already satisfied: wrapt>=1.11.1 in /Users/samuelcardonis/anaconda3/lib/python3.7/site-packages (from tensorflow==2.0.0-beta1) (1.11.1)\n",
      "Requirement already satisfied: grpcio>=1.8.6 in /Users/samuelcardonis/anaconda3/lib/python3.7/site-packages (from tensorflow==2.0.0-beta1) (1.16.1)\n",
      "Requirement already satisfied: google-pasta>=0.1.6 in /Users/samuelcardonis/anaconda3/lib/python3.7/site-packages (from tensorflow==2.0.0-beta1) (0.1.7)\n",
      "Requirement already satisfied: keras-preprocessing>=1.0.5 in /Users/samuelcardonis/anaconda3/lib/python3.7/site-packages (from tensorflow==2.0.0-beta1) (1.1.0)\n",
      "Requirement already satisfied: tf-estimator-nightly<1.14.0.dev2019060502,>=1.14.0.dev2019060501 in /Users/samuelcardonis/anaconda3/lib/python3.7/site-packages (from tensorflow==2.0.0-beta1) (1.14.0.dev2019060501)\n",
      "Requirement already satisfied: astor>=0.6.0 in /Users/samuelcardonis/anaconda3/lib/python3.7/site-packages (from tensorflow==2.0.0-beta1) (0.7.1)\n",
      "Requirement already satisfied: protobuf>=3.6.1 in /Users/samuelcardonis/anaconda3/lib/python3.7/site-packages (from tensorflow==2.0.0-beta1) (3.8.0)\n",
      "Requirement already satisfied: keras-applications>=1.0.6 in /Users/samuelcardonis/anaconda3/lib/python3.7/site-packages (from tensorflow==2.0.0-beta1) (1.0.8)\n",
      "Requirement already satisfied: numpy<2.0,>=1.14.5 in /Users/samuelcardonis/anaconda3/lib/python3.7/site-packages (from tensorflow==2.0.0-beta1) (1.16.2)\n",
      "Collecting setuptools>=41.0.0 (from tb-nightly<1.14.0a20190604,>=1.14.0a20190603->tensorflow==2.0.0-beta1)\n",
      "  Using cached https://files.pythonhosted.org/packages/ec/51/f45cea425fd5cb0b0380f5b0f048ebc1da5b417e48d304838c02d6288a1e/setuptools-41.0.1-py2.py3-none-any.whl\n",
      "Requirement already satisfied: markdown>=2.6.8 in /Users/samuelcardonis/anaconda3/lib/python3.7/site-packages (from tb-nightly<1.14.0a20190604,>=1.14.0a20190603->tensorflow==2.0.0-beta1) (3.1.1)\n",
      "Requirement already satisfied: werkzeug>=0.11.15 in /Users/samuelcardonis/anaconda3/lib/python3.7/site-packages (from tb-nightly<1.14.0a20190604,>=1.14.0a20190603->tensorflow==2.0.0-beta1) (0.14.1)\n",
      "Requirement already satisfied: h5py in /Users/samuelcardonis/anaconda3/lib/python3.7/site-packages (from keras-applications>=1.0.6->tensorflow==2.0.0-beta1) (2.9.0)\n",
      "Installing collected packages: setuptools\n",
      "  Found existing installation: setuptools 40.8.0\n",
      "    Uninstalling setuptools-40.8.0:\n",
      "      Successfully uninstalled setuptools-40.8.0\n",
      "Successfully installed setuptools-41.0.1\n",
      "Collecting pycm\n",
      "\u001b[?25l  Downloading https://files.pythonhosted.org/packages/25/10/6525c8fd14aac2ab582506c830c98fe9835299c9ffe7f0d53f76848b5b6e/pycm-2.4-py2.py3-none-any.whl (48kB)\n",
      "\u001b[K    100% |████████████████████████████████| 51kB 227kB/s ta 0:00:01\n",
      "\u001b[?25hCollecting art>=1.8 (from pycm)\n",
      "  Using cached https://files.pythonhosted.org/packages/fb/ee/f8ee3c9ff194b30c07d85746fdcc78103de63e23fce868a704b98294f7e2/art-3.8-py2.py3-none-any.whl\n",
      "Requirement already satisfied: numpy>=1.9.0 in /Users/samuelcardonis/anaconda3/lib/python3.7/site-packages (from pycm) (1.16.2)\n",
      "Collecting coverage>=4.1 (from art>=1.8->pycm)\n",
      "\u001b[?25l  Downloading https://files.pythonhosted.org/packages/85/d5/818d0e603685c4a613d56f065a721013e942088047ff1027a632948bdae6/coverage-4.5.4.tar.gz (385kB)\n",
      "\u001b[K    100% |████████████████████████████████| 389kB 895kB/s ta 0:00:011\n",
      "\u001b[?25hBuilding wheels for collected packages: coverage\n",
      "  Building wheel for coverage (setup.py) ... \u001b[?25ldone\n",
      "\u001b[?25h  Stored in directory: /Users/samuelcardonis/Library/Caches/pip/wheels/3d/78/f3/27ada0157c9551bcc19de14154a4a83db09bbe275c6765f283\n",
      "Successfully built coverage\n",
      "Installing collected packages: coverage, art, pycm\n",
      "Successfully installed art-3.8 coverage-4.5.4 pycm-2.4\n"
     ]
    }
   ],
   "source": [
    "!pip install eli5\n",
    "!pip install keras\n",
    "!pip install tensorflow==2.0.0-beta1\n",
    "!pip install pycm"
   ]
  },
  {
   "cell_type": "code",
   "execution_count": 18,
   "metadata": {},
   "outputs": [],
   "source": [
    "from __future__ import absolute_import, division, print_function, unicode_literals\n",
    "\n",
    "import pandas as pd\n",
    "import numpy as np\n",
    "from scipy import stats\n",
    "import matplotlib.pyplot as plt\n",
    "import seaborn as sns\n",
    "import eli5\n",
    "from eli5.sklearn import PermutationImportance\n",
    "from sklearn.model_selection import GridSearchCV\n",
    "from sklearn.model_selection import train_test_split\n",
    "from sklearn.metrics import confusion_matrix\n",
    "from sklearn.preprocessing import StandardScaler\n",
    "from sklearn.utils import resample\n",
    "from keras.wrappers.scikit_learn import KerasClassifier\n",
    "from keras.utils import to_categorical\n",
    "from keras.models import Sequential\n",
    "from keras.layers import Dense, Dropout, LSTM, Embedding\n",
    "from keras.optimizers import RMSprop\n",
    "from IPython.display import display\n",
    "from mpl_toolkits.mplot3d import Axes3D\n",
    "from sklearn.preprocessing import StandardScaler\n",
    "import itertools\n",
    "import os\n",
    "import matplotlib.pylab as pl\n",
    "import pandas_datareader.data as pdr\n",
    "from alpha_vantage.techindicators import TechIndicators\n",
    "from alpha_vantage.timeseries import TimeSeries\n",
    "from pycm import ConfusionMatrix\n",
    "\n"
   ]
  },
  {
   "cell_type": "code",
   "execution_count": 19,
   "metadata": {},
   "outputs": [
    {
     "name": "stdout",
     "output_type": "stream",
     "text": [
      "['^GSPC.csv', 'DJI.csv', 'FB.csv', 'GOOG.csv', 'pima-indians-diabetes.csv', 'QQQ.csv', 'TSLA.csv', 'XLF.csv', 'XLV.csv']\n"
     ]
    }
   ],
   "source": [
    "print(os.listdir('./files/input'))"
   ]
  },
  {
   "cell_type": "code",
   "execution_count": null,
   "metadata": {},
   "outputs": [],
   "source": []
  }
 ],
 "metadata": {
  "kernelspec": {
   "display_name": "Python 3",
   "language": "python",
   "name": "python3"
  },
  "language_info": {
   "codemirror_mode": {
    "name": "ipython",
    "version": 3
   },
   "file_extension": ".py",
   "mimetype": "text/x-python",
   "name": "python",
   "nbconvert_exporter": "python",
   "pygments_lexer": "ipython3",
   "version": "3.7.3"
  }
 },
 "nbformat": 4,
 "nbformat_minor": 2
}
